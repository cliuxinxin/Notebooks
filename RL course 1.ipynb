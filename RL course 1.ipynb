{
 "cells": [
  {
   "cell_type": "code",
   "execution_count": 1,
   "metadata": {},
   "outputs": [],
   "source": [
    "import numpy as np\n",
    "import gym\n",
    "import random\n",
    "import time\n",
    "from IPython.display import clear_output"
   ]
  },
  {
   "cell_type": "code",
   "execution_count": 2,
   "metadata": {},
   "outputs": [],
   "source": [
    "# start frozen lake env\n",
    "env = gym.make(\"FrozenLake-v0\")"
   ]
  },
  {
   "cell_type": "code",
   "execution_count": 3,
   "metadata": {},
   "outputs": [],
   "source": [
    "# create the Q-table\n",
    "action_space_size = env.action_space.n\n",
    "state_space_size = env.observation_space.n\n",
    "\n",
    "q_table = np.zeros((state_space_size,action_space_size))"
   ]
  },
  {
   "cell_type": "code",
   "execution_count": 4,
   "metadata": {},
   "outputs": [
    {
     "name": "stdout",
     "output_type": "stream",
     "text": [
      "[[0. 0. 0. 0.]\n",
      " [0. 0. 0. 0.]\n",
      " [0. 0. 0. 0.]\n",
      " [0. 0. 0. 0.]\n",
      " [0. 0. 0. 0.]\n",
      " [0. 0. 0. 0.]\n",
      " [0. 0. 0. 0.]\n",
      " [0. 0. 0. 0.]\n",
      " [0. 0. 0. 0.]\n",
      " [0. 0. 0. 0.]\n",
      " [0. 0. 0. 0.]\n",
      " [0. 0. 0. 0.]\n",
      " [0. 0. 0. 0.]\n",
      " [0. 0. 0. 0.]\n",
      " [0. 0. 0. 0.]\n",
      " [0. 0. 0. 0.]]\n"
     ]
    }
   ],
   "source": [
    "# let's see q_table\n",
    "print(q_table)"
   ]
  },
  {
   "cell_type": "code",
   "execution_count": 12,
   "metadata": {},
   "outputs": [],
   "source": [
    "# initializting Q-learning parameters\n",
    "num_episodes = 10000 # play the game 10000 times\n",
    "max_steps_per_episode = 100 # every game just play 100 steps. even not win or lose\n",
    "\n",
    "learning_rate = 0.1 # we just use the information 10% of each time\n",
    "discount_rate = 0.99 # what we think about the furture\n",
    "\n",
    "exploration_rate = 1 # at first we should make exploration\n",
    "max_exploration_rate = 1 # we can't pass over 1 becourse it's not mean anythihng\n",
    "min_exploration_rate = 0 # even we get all the information , we should still exploration\n",
    "exploration_decay_rate = 0.01 # well ,after 100 times we will just use the min I don't know if it is all right"
   ]
  },
  {
   "cell_type": "code",
   "execution_count": 13,
   "metadata": {},
   "outputs": [],
   "source": [
    "# The next course prove my concern ,exploration decay rate is too big , so it will become less exploration to fast\n",
    "exploration_decay_rate = 0.001 # This time will make the 1000 episodes to be the min rate"
   ]
  },
  {
   "cell_type": "code",
   "execution_count": 14,
   "metadata": {},
   "outputs": [],
   "source": [
    "# recorde all the rewards\n",
    "rewards_all_episodes = []"
   ]
  },
  {
   "cell_type": "code",
   "execution_count": 15,
   "metadata": {},
   "outputs": [],
   "source": [
    "# Q-learning algorithm\n",
    "for episode in range(num_episodes): # which means 10000 times game\n",
    "    # initialize new episode params\n",
    "    state = env.reset() # Which is define in the episodic game.Every episode is different from others just restart\n",
    "    done = False # This is the condition given by the env , if it is always false ,every episode will step 100\n",
    "    reward_current_episode = 0 # initial this episode's reward . It will given by the env and accurate.It is the return for the agent.\n",
    "    \n",
    "    # what happened each step:\n",
    "    for step in range(max_steps_per_episode): # which means 100 steps\n",
    "        # Exploration-exploitation trade-off this is easy just tell you how to trade off in math and impliment\n",
    "        exploration_rate_threhold = random.uniform(0,1)\n",
    "        if exploration_rate_threhold > exploration_rate and ~np.all(q_table[state,:]==0):\n",
    "            action = np.argmax(q_table[state,:])\n",
    "        else:\n",
    "            action = env.action_space.sample()\n",
    "                \n",
    "        # Take new action thank you for env , I think even alphago will use the same expression. env.step\n",
    "        new_state,reward,done,info = env.step(action)\n",
    "        # Update Q-table turns out use is easier to understand it.\n",
    "        q_table[state,action] = q_table[state,action] * (1 - learning_rate) + learning_rate * (reward + discount_rate*np.max(q_table[new_state,:]))\n",
    "        # Set new state\n",
    "        state = new_state\n",
    "        # Add new reward\n",
    "        reward_current_episode += reward\n",
    "        \n",
    "        # game over buddy\n",
    "        if done == True:\n",
    "            break \n",
    "        \n",
    "    # Exploration rate decay which means decay after every episode.It looks like the decay is not like linear decay as I thought\n",
    "    exploration_rate = min_exploration_rate + (max_exploration_rate - min_exploration_rate) * np.exp(-exploration_decay_rate * episode)\n",
    "    # Add current episode reward to total rewards list which will see the result\n",
    "    rewards_all_episodes.append(reward_current_episode)"
   ]
  },
  {
   "cell_type": "code",
   "execution_count": 16,
   "metadata": {},
   "outputs": [
    {
     "name": "stdout",
     "output_type": "stream",
     "text": [
      "********Average reword per thousand episodes********\n",
      "\n",
      "1000 : 0.04900000000000004\n",
      "2000 : 0.20500000000000015\n",
      "3000 : 0.45500000000000035\n",
      "4000 : 0.5820000000000004\n",
      "5000 : 0.6810000000000005\n",
      "6000 : 0.7150000000000005\n",
      "7000 : 0.7310000000000005\n",
      "8000 : 0.7240000000000005\n",
      "9000 : 0.7380000000000005\n",
      "10000 : 0.7350000000000005\n"
     ]
    }
   ],
   "source": [
    "# results time\n",
    "rewards_per_thousand_episodes = np.split(np.array(rewards_all_episodes),num_episodes/1000)\n",
    "count = 1000\n",
    "print(\"********Average reword per thousand episodes********\\n\")\n",
    "for r in rewards_per_thousand_episodes:\n",
    "    print(count,\":\",str(sum(r/1000))) # this is mean\n",
    "    count += 1000"
   ]
  },
  {
   "cell_type": "code",
   "execution_count": 17,
   "metadata": {},
   "outputs": [
    {
     "name": "stdout",
     "output_type": "stream",
     "text": [
      "\n",
      "*****Q-table*****\n",
      "\n",
      "[[0.60361236 0.4524711  0.46237147 0.46208927]\n",
      " [0.34552489 0.29314873 0.24995214 0.51691257]\n",
      " [0.38937876 0.41606772 0.41399522 0.47082286]\n",
      " [0.22832732 0.30357105 0.18446115 0.45179408]\n",
      " [0.61887021 0.36360722 0.34889192 0.35433408]\n",
      " [0.         0.         0.         0.        ]\n",
      " [0.16437308 0.16545203 0.30757001 0.12860073]\n",
      " [0.         0.         0.         0.        ]\n",
      " [0.45064093 0.3918083  0.45249991 0.66513172]\n",
      " [0.50463268 0.7205136  0.42382602 0.36141869]\n",
      " [0.69363264 0.35862291 0.2953961  0.27562932]\n",
      " [0.         0.         0.         0.        ]\n",
      " [0.         0.         0.         0.        ]\n",
      " [0.53178038 0.51825753 0.75789783 0.43226265]\n",
      " [0.71365949 0.85304089 0.70654032 0.71343118]\n",
      " [0.         0.         0.         0.        ]]\n"
     ]
    }
   ],
   "source": [
    "# Print the updated Q-table\n",
    "print(\"\\n*****Q-table*****\\n\")\n",
    "print(q_table)"
   ]
  },
  {
   "cell_type": "code",
   "execution_count": 18,
   "metadata": {},
   "outputs": [
    {
     "name": "stdout",
     "output_type": "stream",
     "text": [
      "  (Left)\n",
      "SFFF\n",
      "FHFH\n",
      "FFFH\n",
      "\u001b[41mH\u001b[0mFFG\n",
      "*******You fell though a hole!********************\n"
     ]
    }
   ],
   "source": [
    "# Watch our agent play the game according to the Q-table\n",
    "\n",
    "# Let's play 3 times:\n",
    "for episode in range(3):\n",
    "    # initialize new episode params\n",
    "    state = env.reset()\n",
    "    done = False\n",
    "    print(\"*******EPISODE {} *********\\n\\n\\n\".format(episode+1))\n",
    "    time.sleep(1)\n",
    "    # show every step\n",
    "    for step in range(max_steps_per_episode):\n",
    "        # Show current state of env on screen\n",
    "        clear_output(wait=True)\n",
    "        env.render()\n",
    "        time.sleep(0.3)\n",
    "        # Choose action with highest Q-value for currnet state\n",
    "        action = np.argmax(q_table[state,:])\n",
    "        # Take new action\n",
    "        new_state,reward,done,info = env.step(action)\n",
    "        # game over\n",
    "        if done:\n",
    "            clear_output(wait=True)\n",
    "            env.render()\n",
    "            if reward == 1: #win\n",
    "                print(\"*****You reach the goal!**********\")\n",
    "                time.sleep(3)\n",
    "            else: # lose\n",
    "                print(\"*******You fell though a hole!********************\")\n",
    "                time.sleep(3)\n",
    "                clear_output(wait=True)\n",
    "            break\n",
    "        # Set new state"
   ]
  },
  {
   "cell_type": "code",
   "execution_count": null,
   "metadata": {},
   "outputs": [],
   "source": []
  }
 ],
 "metadata": {
  "kernelspec": {
   "display_name": "Python 3",
   "language": "python",
   "name": "python3"
  },
  "language_info": {
   "codemirror_mode": {
    "name": "ipython",
    "version": 3
   },
   "file_extension": ".py",
   "mimetype": "text/x-python",
   "name": "python",
   "nbconvert_exporter": "python",
   "pygments_lexer": "ipython3",
   "version": "3.6.5"
  }
 },
 "nbformat": 4,
 "nbformat_minor": 2
}
