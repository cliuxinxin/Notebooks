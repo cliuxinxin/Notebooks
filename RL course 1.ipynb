{
 "cells": [
  {
   "cell_type": "code",
   "execution_count": 1,
   "metadata": {},
   "outputs": [],
   "source": [
    "import numpy as np\n",
    "import gym\n",
    "import random\n",
    "import time\n",
    "from IPython.display import clear_output"
   ]
  },
  {
   "cell_type": "code",
   "execution_count": 2,
   "metadata": {},
   "outputs": [],
   "source": [
    "# start frozen lake env\n",
    "env = gym.make(\"FrozenLake-v0\")"
   ]
  },
  {
   "cell_type": "code",
   "execution_count": 3,
   "metadata": {},
   "outputs": [],
   "source": [
    "# create the Q-table\n",
    "action_space_size = env.action_space.n\n",
    "state_space_size = env.observation_space.n\n",
    "\n",
    "q_table = np.zeros((state_space_size,action_space_size))"
   ]
  },
  {
   "cell_type": "code",
   "execution_count": 4,
   "metadata": {},
   "outputs": [
    {
     "name": "stdout",
     "output_type": "stream",
     "text": [
      "[[0. 0. 0. 0.]\n",
      " [0. 0. 0. 0.]\n",
      " [0. 0. 0. 0.]\n",
      " [0. 0. 0. 0.]\n",
      " [0. 0. 0. 0.]\n",
      " [0. 0. 0. 0.]\n",
      " [0. 0. 0. 0.]\n",
      " [0. 0. 0. 0.]\n",
      " [0. 0. 0. 0.]\n",
      " [0. 0. 0. 0.]\n",
      " [0. 0. 0. 0.]\n",
      " [0. 0. 0. 0.]\n",
      " [0. 0. 0. 0.]\n",
      " [0. 0. 0. 0.]\n",
      " [0. 0. 0. 0.]\n",
      " [0. 0. 0. 0.]]\n"
     ]
    }
   ],
   "source": [
    "# let's see q_table\n",
    "print(q_table)"
   ]
  },
  {
   "cell_type": "code",
   "execution_count": 50,
   "metadata": {},
   "outputs": [],
   "source": [
    "# initializting Q-learning parameters\n",
    "num_episodes = 10000 # play the game 10000 times\n",
    "max_steps_per_episode = 100 # every game just play 100 steps. even not win or lose\n",
    "\n",
    "learning_rate = 0.1 # we just use the information 10% of each time\n",
    "discount_rate = 0.99 # what we think about the furture\n",
    "\n",
    "exploration_rate = 1 # at first we should make exploration\n",
    "max_exploration_rate = 1 # we can't pass over 1 becourse it's not mean anythihng\n",
    "min_exploration_rate = 0 # even we get all the information , we should still exploration\n",
    "exploration_decay_rate = 0.01 # well ,after 100 times we will just use the min I don't know if it is all right"
   ]
  },
  {
   "cell_type": "code",
   "execution_count": 51,
   "metadata": {},
   "outputs": [],
   "source": [
    "# The next course prove my concern ,exploration decay rate is too big , so it will become less exploration to fast\n",
    "exploration_decay_rate = 0.001 # This time will make the 1000 episodes to be the min rate"
   ]
  },
  {
   "cell_type": "code",
   "execution_count": 52,
   "metadata": {},
   "outputs": [],
   "source": [
    "# recorde all the rewards\n",
    "rewards_all_episodes = []"
   ]
  },
  {
   "cell_type": "code",
   "execution_count": 53,
   "metadata": {},
   "outputs": [],
   "source": [
    "# Q-learning algorithm\n",
    "for episode in range(num_episodes): # which means 10000 times game\n",
    "    # initialize new episode params\n",
    "    state = env.reset() # Which is define in the episodic game.Every episode is different from others just restart\n",
    "    done = False # This is the condition given by the env , if it is always false ,every episode will step 100\n",
    "    reward_current_episode = 0 # initial this episode's reward . It will given by the env and accurate.It is the return for the agent.\n",
    "    \n",
    "    # what happened each step:\n",
    "    for step in range(max_steps_per_episode): # which means 100 steps\n",
    "        # Exploration-exploitation trade-off this is easy just tell you how to trade off in math and impliment\n",
    "        exploration_rate_threhold = random.uniform(0,1)\n",
    "        if exploration_rate_threhold > exploration_rate:\n",
    "            action = np.argmax(q_table[state,:])\n",
    "        else:\n",
    "            action = env.action_space.sample()\n",
    "                \n",
    "        # Take new action thank you for env , I think even alphago will use the same expression. env.step\n",
    "        new_state,reward,done,info = env.step(action)\n",
    "        # Update Q-table turns out use is easier to understand it.\n",
    "        q_table[state,action] = q_table[state,action] * (1 - learning_rate) + learning_rate * (reward + discount_rate*np.max(q_table[new_state,:]))\n",
    "        # Set new state\n",
    "        state = new_state\n",
    "        # Add new reward\n",
    "        reward_current_episode += reward\n",
    "        \n",
    "        # game over buddy\n",
    "        if done == True:\n",
    "            break \n",
    "        \n",
    "    # Exploration rate decay which means decay after every episode.It looks like the decay is not like linear decay as I thought\n",
    "    exploration_rate = min_exploration_rate + (max_exploration_rate - min_exploration_rate) * np.exp(-exploration_decay_rate * episode)\n",
    "    # Add current episode reward to total rewards list which will see the result\n",
    "    rewards_all_episodes.append(reward_current_episode)"
   ]
  },
  {
   "cell_type": "code",
   "execution_count": 54,
   "metadata": {},
   "outputs": [
    {
     "name": "stdout",
     "output_type": "stream",
     "text": [
      "********Average reword per thousand episodes********\n",
      "\n",
      "1000 : 0.05400000000000004\n",
      "2000 : 0.20600000000000016\n",
      "3000 : 0.43300000000000033\n",
      "4000 : 0.5910000000000004\n",
      "5000 : 0.6860000000000005\n",
      "6000 : 0.7350000000000005\n",
      "7000 : 0.7060000000000005\n",
      "8000 : 0.7250000000000005\n",
      "9000 : 0.7590000000000006\n",
      "10000 : 0.7370000000000005\n"
     ]
    }
   ],
   "source": [
    "# results time\n",
    "rewards_per_thousand_episodes = np.split(np.array(rewards_all_episodes),num_episodes/1000)\n",
    "count = 1000\n",
    "print(\"********Average reword per thousand episodes********\\n\")\n",
    "for r in rewards_per_thousand_episodes:\n",
    "    print(count,\":\",str(sum(r/1000))) # this is mean\n",
    "    count += 1000"
   ]
  },
  {
   "cell_type": "code",
   "execution_count": 16,
   "metadata": {},
   "outputs": [
    {
     "name": "stdout",
     "output_type": "stream",
     "text": [
      "\n",
      "*****Q-table*****\n",
      "\n",
      "[[0.58478982 0.50717513 0.51196459 0.51454536]\n",
      " [0.34396766 0.39831647 0.32057776 0.51696018]\n",
      " [0.40516535 0.3934736  0.41628588 0.47415028]\n",
      " [0.33313982 0.30029327 0.36478482 0.45418402]\n",
      " [0.60292345 0.385171   0.43609818 0.41532004]\n",
      " [0.         0.         0.         0.        ]\n",
      " [0.1553453  0.17421598 0.37486291 0.1572229 ]\n",
      " [0.         0.         0.         0.        ]\n",
      " [0.39523419 0.35948398 0.34368163 0.64608977]\n",
      " [0.46927049 0.71305599 0.44548304 0.44431532]\n",
      " [0.7297678  0.39569863 0.32029667 0.33969359]\n",
      " [0.         0.         0.         0.        ]\n",
      " [0.         0.         0.         0.        ]\n",
      " [0.43254886 0.61444516 0.81513174 0.51597853]\n",
      " [0.73484234 0.90446302 0.76635708 0.80562953]\n",
      " [0.         0.         0.         0.        ]]\n"
     ]
    }
   ],
   "source": [
    "# Print the updated Q-table\n",
    "print(\"\\n*****Q-table*****\\n\")\n",
    "print(q_table)"
   ]
  },
  {
   "cell_type": "code",
   "execution_count": null,
   "metadata": {},
   "outputs": [],
   "source": []
  }
 ],
 "metadata": {
  "kernelspec": {
   "display_name": "Python 3",
   "language": "python",
   "name": "python3"
  },
  "language_info": {
   "codemirror_mode": {
    "name": "ipython",
    "version": 3
   },
   "file_extension": ".py",
   "mimetype": "text/x-python",
   "name": "python",
   "nbconvert_exporter": "python",
   "pygments_lexer": "ipython3",
   "version": "3.6.5"
  }
 },
 "nbformat": 4,
 "nbformat_minor": 2
}
