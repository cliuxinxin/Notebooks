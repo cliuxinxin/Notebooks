{
 "cells": [
  {
   "cell_type": "code",
   "execution_count": 1,
   "metadata": {},
   "outputs": [],
   "source": [
    "# 一些库\n",
    "import IPython\n",
    "import librosa\n",
    "import librosa.display as dsp\n",
    "import matplotlib.pyplot as plt\n",
    "import numpy as np\n",
    "from scipy.io import wavfile\n",
    "%matplotlib inline  "
   ]
  },
  {
   "cell_type": "code",
   "execution_count": 5,
   "metadata": {},
   "outputs": [],
   "source": [
    "# 生成短时间音频\n",
    "sr = 16000\n",
    "wav = np.zeros(int(16000*1*0.480))\n",
    "wavfile.write(\"20ms.wav\", sr, wav.astype(np.int16))"
   ]
  },
  {
   "cell_type": "code",
   "execution_count": null,
   "metadata": {},
   "outputs": [],
   "source": [
    "# 显示wav文件\n",
    "IPython.display.Audio('orinji.wav')"
   ]
  },
  {
   "cell_type": "code",
   "execution_count": null,
   "metadata": {},
   "outputs": [],
   "source": [
    "# 同一张图显示三个音频图像\n",
    "sr = 16000\n",
    "wav_origin = librosa.core.load('origin.wav', sr=sr)[0]\n",
    "wav_liner = librosa.core.load('liner.wav', sr=sr)[0]\n",
    "wav_mel = librosa.core.load('mel.wav', sr=sr)[0]\n",
    "\n",
    "plt.figure(figsize=(18,8))\n",
    "\n",
    "ax = plt.subplot(3, 1, 1)\n",
    "dsp.waveplot(wav_origin, sr=sr)\n",
    "ax.set_title('origin waveform')\n",
    "ax = plt.subplot(3, 1, 2,sharex=ax)\n",
    "dsp.waveplot(wav_liner, sr=sr)\n",
    "ax.set_title('liner waveform')\n",
    "ax = plt.subplot(3, 1, 3,sharex=ax)\n",
    "dsp.waveplot(wav_mel, sr=sr)\n",
    "ax.set_title('mel waveform')"
   ]
  },
  {
   "cell_type": "code",
   "execution_count": null,
   "metadata": {},
   "outputs": [],
   "source": [
    "# 生成mel谱\n",
    "n_fft = 1024\n",
    "hop_size=200\n",
    "win_length=800\n",
    "\n",
    "n_mels = 80\n",
    "fmin = 55\n",
    "fmax = 7600\n",
    "\n",
    "min_level_db = -100\n",
    "max_abs_value = 4\n",
    "ref_level_db = 20\n",
    "\n",
    "D = librosa.stft(y=wav, n_fft=n_fft, hop_length=hop_size, win_length=win_length)\n",
    "D = np.abs(D)\n",
    "mel_basis = librosa.filters.mel(sr, n_fft, n_mels=n_mels,fmin=fmin, fmax=fmax)\n",
    "D = np.dot(mel_basis, D)\n",
    "min_level = np.exp(min_level_db / 20 * np.log(10))\n",
    "D = 20 * np.log10(np.maximum(min_level, D))\n",
    "Smel = D - ref_level_db\n",
    "\n",
    "# S = np.clip((2 * max_abs_value) * ((S - min_level_db) / (-min_level_db)) - max_abs_value, max_abs_value, max_abs_value)\n",
    "# S = np.clip((2 * max_abs_value) * ((S - min_level_db) / (-min_level_db)) - max_abs_value, -max_abs_value, max_abs_value)"
   ]
  },
  {
   "cell_type": "code",
   "execution_count": null,
   "metadata": {},
   "outputs": [],
   "source": [
    "#mel谱画图\n",
    "fig = plt.figure(figsize=(10, 8))\n",
    "ax1 = fig.add_subplot(311)\n",
    "im = ax1.imshow(Smel, aspect='auto', interpolation='none')\n",
    "ax1.invert_yaxis() \n",
    "fig.colorbar(mappable=im, shrink=0.65, orientation='horizontal', ax=ax1)"
   ]
  },
  {
   "cell_type": "code",
   "execution_count": null,
   "metadata": {},
   "outputs": [],
   "source": [
    "# mel谱正则化以后画图\n",
    "Smel_n = np.clip((2 * max_abs_value) * ((Smel - min_level_db) / (-min_level_db)) - max_abs_value, -max_abs_value, max_abs_value)\n",
    "fig = plt.figure(figsize=(10, 8))\n",
    "ax1 = fig.add_subplot(311)\n",
    "im = ax1.imshow(Smel_n, aspect='auto', interpolation='none')\n",
    "ax1.invert_yaxis() \n",
    "fig.colorbar(mappable=im, shrink=0.65, orientation='horizontal', ax=ax1)"
   ]
  },
  {
   "cell_type": "code",
   "execution_count": null,
   "metadata": {},
   "outputs": [],
   "source": [
    "# 生成直线谱\n",
    "D = librosa.stft(y=wav, n_fft=n_fft, hop_length=hop_size, win_length=win_length)\n",
    "D = np.abs(D)\n",
    "\n",
    "min_level = np.exp(min_level_db / 20 * np.log(10))\n",
    "D = 20 * np.log10(np.maximum(min_level, D))\n",
    "S_line = D - ref_level_db"
   ]
  },
  {
   "cell_type": "code",
   "execution_count": null,
   "metadata": {},
   "outputs": [],
   "source": [
    "# 直线谱画图\n",
    "fig = plt.figure(figsize=(10, 8))\n",
    "ax1 = fig.add_subplot(311)\n",
    "im = ax1.imshow(S_line, aspect='auto', interpolation='none')\n",
    "ax1.invert_yaxis() \n",
    "fig.colorbar(mappable=im, shrink=0.65, orientation='horizontal', ax=ax1)"
   ]
  },
  {
   "cell_type": "code",
   "execution_count": null,
   "metadata": {},
   "outputs": [],
   "source": [
    "#直线谱正则以后画图\n",
    "S_line_n = np.clip((2 * max_abs_value) * ((S_line - min_level_db) / (-min_level_db)) - max_abs_value, -max_abs_value, max_abs_value)\n",
    "fig = plt.figure(figsize=(10, 8))\n",
    "ax1 = fig.add_subplot(311)\n",
    "im = ax1.imshow(S_line_n, aspect='auto', interpolation='none')\n",
    "ax1.invert_yaxis() \n",
    "fig.colorbar(mappable=im, shrink=0.65, orientation='horizontal', ax=ax1)"
   ]
  },
  {
   "cell_type": "code",
   "execution_count": null,
   "metadata": {},
   "outputs": [],
   "source": [
    "# 直线谱转换成声音\n",
    "power = 1.5\n",
    "griffin_lim_iters = 60\n",
    "\n",
    "def _stft(y):\n",
    "    return librosa.stft(y=y, n_fft=n_fft, hop_length=hop_size, win_length=win_length)\n",
    "\n",
    "def _istft(y):\n",
    "    return librosa.istft(y, hop_length=hop_size, win_length=win_length)\n",
    "\n",
    "def _griffin_lim(S):\n",
    "    '''librosa implementation of Griffin-Lim\n",
    "    Based on https://github.com/librosa/librosa/issues/434\n",
    "    '''\n",
    "    angles = np.exp(2j * np.pi * np.random.rand(*S.shape))\n",
    "    S_complex = np.abs(S).astype(np.complex)\n",
    "    y = _istft(S_complex * angles)\n",
    "    for i in range(griffin_lim_iters):\n",
    "        angles = np.exp(1j * np.angle(_stft(y)))\n",
    "    return y\n",
    "    \n",
    "\n",
    "D = (((np.clip(S_line_n, -max_abs_value,max_abs_value) + max_abs_value) * -min_level_db / (2 * max_abs_value))+ min_level_db)\n",
    "D = D + ref_level_db\n",
    "S = np.power(10.0, (D) * 0.05)\n",
    "\n",
    "wav = _griffin_lim(S ** power)\n",
    "\n",
    "wav *= 32767 / max(0.01, np.max(np.abs(wav)))\n",
    "wavfile.write(\"liner2wav.wav\", sr, wav.astype(np.int16))"
   ]
  },
  {
   "cell_type": "code",
   "execution_count": null,
   "metadata": {},
   "outputs": [],
   "source": [
    "# mel谱转换成声音\n",
    "D = (((np.clip(Smel_n, -max_abs_value,max_abs_value) + max_abs_value) * -min_level_db / (2 * max_abs_value))+ min_level_db)\n",
    "D = D + ref_level_db\n",
    "S = np.power(10.0, (D) * 0.05)\n",
    "_inv_mel_basis = np.linalg.pinv(librosa.filters.mel(sr, n_fft, n_mels=n_mels,fmin=fmin, fmax=fmax))\n",
    "S = np.maximum(1e-10, np.dot(_inv_mel_basis, S))\n",
    "\n",
    "wav = _griffin_lim(S ** power)\n",
    "\n",
    "wav *= 32767 / max(0.01, np.max(np.abs(wav)))\n",
    "wavfile.write(\"mel2wav.wav\", sr, wav.astype(np.int16))"
   ]
  },
  {
   "cell_type": "code",
   "execution_count": 4,
   "metadata": {},
   "outputs": [],
   "source": [
    "# 合并声音\n",
    "wav_1 = librosa.core.load('1.wav', sr=16000)[0]\n",
    "wav_2 = librosa.core.load('2.wav', sr=16000)[0]\n",
    "wav_3 = np.concatenate((wav_1,wav_2),axis=0)\n",
    "wavfile.write(\"3.wav\", 16000, wav_3)"
   ]
  },
  {
   "cell_type": "code",
   "execution_count": 2,
   "metadata": {},
   "outputs": [],
   "source": [
    "# MP3 2 WAV\n",
    "from pydub import AudioSegment\n",
    " \n",
    "def trans_mp3_to_wav(filepath,new_name=\"new\"):\n",
    "    song = AudioSegment.from_mp3(filepath)\n",
    "    song.export(\"{}.wav\".format(new_name), format=\"wav\")\n",
    "    \n",
    "trans_mp3_to_wav(\"1.mp3\",new_name=\"new\")"
   ]
  },
  {
   "cell_type": "code",
   "execution_count": 13,
   "metadata": {},
   "outputs": [
    {
     "data": {
      "text/plain": [
       "<_io.BufferedRandom name='test1.wav'>"
      ]
     },
     "execution_count": 13,
     "metadata": {},
     "output_type": "execute_result"
    }
   ],
   "source": [
    "# 声音切片 18s 到 180秒\n",
    "sound1 = AudioSegment.from_file(\"new.wav\", format=\"wav\")\n",
    "beginning = sound1[18000:78000]\n",
    "beginning.export(\"test1.wav\",format=\"wav\")"
   ]
  },
  {
   "cell_type": "code",
   "execution_count": 33,
   "metadata": {},
   "outputs": [
    {
     "name": "stderr",
     "output_type": "stream",
     "text": [
      "/Users/liuxinxin/anaconda3/lib/python3.6/site-packages/librosa/util/utils.py:1725: FutureWarning: Conversion of the second argument of issubdtype from `float` to `np.floating` is deprecated. In future, it will be treated as `np.float64 == np.dtype(float).type`.\n",
      "  if np.issubdtype(x.dtype, float) or np.issubdtype(x.dtype, complex):\n"
     ]
    }
   ],
   "source": [
    "# 声音放慢\n",
    "import librosa\n",
    "from scipy.io import wavfile\n",
    "import numpy as np\n",
    "y, sr   = librosa.core.load('test1.wav', sr=16000)\n",
    "D       = librosa.stft(y, n_fft=1024, hop_length=200)\n",
    "D_slow  = librosa.phase_vocoder(D, 0.5, hop_length=200)\n",
    "y_slow  = librosa.istft(D_slow, hop_length=200)\n",
    "wavfile.write(\"test2.wav\", 16000, y_slow)"
   ]
  },
  {
   "cell_type": "code",
   "execution_count": null,
   "metadata": {},
   "outputs": [],
   "source": []
  }
 ],
 "metadata": {
  "kernelspec": {
   "display_name": "Python 3",
   "language": "python",
   "name": "python3"
  },
  "language_info": {
   "codemirror_mode": {
    "name": "ipython",
    "version": 3
   },
   "file_extension": ".py",
   "mimetype": "text/x-python",
   "name": "python",
   "nbconvert_exporter": "python",
   "pygments_lexer": "ipython3",
   "version": "3.6.5"
  }
 },
 "nbformat": 4,
 "nbformat_minor": 2
}
