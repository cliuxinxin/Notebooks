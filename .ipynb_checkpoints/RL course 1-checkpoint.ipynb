{
 "cells": [
  {
   "cell_type": "code",
   "execution_count": 1,
   "metadata": {},
   "outputs": [],
   "source": [
    "import numpy as np\n",
    "import gym\n",
    "import random\n",
    "import time\n",
    "from IPython.display import clear_output"
   ]
  },
  {
   "cell_type": "code",
   "execution_count": 2,
   "metadata": {},
   "outputs": [],
   "source": [
    "# start frozen lake env\n",
    "env = gym.make(\"FrozenLake-v0\")"
   ]
  },
  {
   "cell_type": "code",
   "execution_count": 3,
   "metadata": {},
   "outputs": [],
   "source": [
    "# create the Q-table\n",
    "action_space_size = env.action_space.n\n",
    "state_space_size = env.observation_space.n\n",
    "\n",
    "q_table = np.zeros((state_space_size,action_space_size))"
   ]
  },
  {
   "cell_type": "code",
   "execution_count": 4,
   "metadata": {},
   "outputs": [
    {
     "name": "stdout",
     "output_type": "stream",
     "text": [
      "[[0. 0. 0. 0.]\n",
      " [0. 0. 0. 0.]\n",
      " [0. 0. 0. 0.]\n",
      " [0. 0. 0. 0.]\n",
      " [0. 0. 0. 0.]\n",
      " [0. 0. 0. 0.]\n",
      " [0. 0. 0. 0.]\n",
      " [0. 0. 0. 0.]\n",
      " [0. 0. 0. 0.]\n",
      " [0. 0. 0. 0.]\n",
      " [0. 0. 0. 0.]\n",
      " [0. 0. 0. 0.]\n",
      " [0. 0. 0. 0.]\n",
      " [0. 0. 0. 0.]\n",
      " [0. 0. 0. 0.]\n",
      " [0. 0. 0. 0.]]\n"
     ]
    }
   ],
   "source": [
    "# let's see q_table\n",
    "print(q_table)"
   ]
  },
  {
   "cell_type": "code",
   "execution_count": 70,
   "metadata": {},
   "outputs": [],
   "source": [
    "# initializting Q-learning parameters\n",
    "num_episodes = 10000 # play the game 10000 times\n",
    "max_steps_per_episode = 100 # every game just play 100 steps. even not win or lose\n",
    "\n",
    "learning_rate = 0.1 # we just use the information 10% of each time\n",
    "discount_rate = 0.99 # what we think about the furture\n",
    "\n",
    "exploration_rate = 1 # at first we should make exploration\n",
    "max_exploration_rate = 1 # we can't pass over 1 becourse it's not mean anythihng\n",
    "min_exploration_rate = 0.01 # even we get all the information , we should still exploration\n",
    "exploration_decay_rate = 0.01 # well ,after 100 times we will just use the min I don't know if it is all right"
   ]
  },
  {
   "cell_type": "code",
   "execution_count": 71,
   "metadata": {},
   "outputs": [],
   "source": [
    "# The next course prove my concern ,exploration decay rate is too big , so it will become less exploration to fast\n",
    "exploration_decay_rate = 0.001 # This time will make the 1000 episodes to be the min rate"
   ]
  },
  {
   "cell_type": "code",
   "execution_count": 72,
   "metadata": {},
   "outputs": [],
   "source": [
    "# recorde all the rewards\n",
    "rewards_all_episodes = []"
   ]
  },
  {
   "cell_type": "code",
   "execution_count": 73,
   "metadata": {},
   "outputs": [],
   "source": [
    "# Q-learning algorithm\n",
    "for episode in range(num_episodes): # which means 10000 times game\n",
    "    # initialize new episode params\n",
    "    state = env.reset() # Which is define in the episodic game.Every episode is different from others just restart\n",
    "    done = False # This is the condition given by the env , if it is always false ,every episode will step 100\n",
    "    reward_current_episode = 0 # initial this episode's reward . It will given by the env and accurate.It is the return for the agent.\n",
    "    \n",
    "    # what happened each step:\n",
    "    for step in range(max_steps_per_episode): # which means 100 steps\n",
    "        # Exploration-exploitation trade-off this is easy just tell you how to trade off in math and impliment\n",
    "        exploration_rate_threhold = random.uniform(0,1)\n",
    "        if exploration_rate_threhold > exploration_rate:\n",
    "            action = np.argmax(q_table[state,:])\n",
    "        else:\n",
    "            action = env.action_space.sample()\n",
    "                \n",
    "        # Take new action thank you for env , I think even alphago will use the same expression. env.step\n",
    "        new_state,reward,done,info = env.step(action)\n",
    "        # Update Q-table turns out use is easier to understand it.\n",
    "        q_table[state,action] = q_table[state,action] * (1 - learning_rate) + learning_rate * (reward + discount_rate*np.max(q_table[new_state,:]))\n",
    "        # Set new state\n",
    "        state = new_state\n",
    "        # Add new reward\n",
    "        reward_current_episode += reward\n",
    "        \n",
    "        # game over buddy\n",
    "        if done == True:\n",
    "            break \n",
    "        \n",
    "    # Exploration rate decay which means decay after every episode.It looks like the decay is not like linear decay as I thought\n",
    "    exploration_rate = min_exploration_rate + (max_exploration_rate - min_exploration_rate) * np.exp(-exploration_decay_rate * episode)\n",
    "    # Add current episode reward to total rewards list which will see the result\n",
    "    rewards_all_episodes.append(reward_current_episode)"
   ]
  },
  {
   "cell_type": "code",
   "execution_count": 74,
   "metadata": {},
   "outputs": [
    {
     "name": "stdout",
     "output_type": "stream",
     "text": [
      "********Average reword per thousand episodes********\n",
      "\n",
      "1000 : 0.060000000000000046\n",
      "2000 : 0.18300000000000013\n",
      "3000 : 0.36800000000000027\n",
      "4000 : 0.5770000000000004\n",
      "5000 : 0.6220000000000004\n",
      "6000 : 0.6850000000000005\n",
      "7000 : 0.6690000000000005\n",
      "8000 : 0.6690000000000005\n",
      "9000 : 0.7060000000000005\n",
      "10000 : 0.6680000000000005\n"
     ]
    }
   ],
   "source": [
    "# results time\n",
    "rewards_per_thousand_episodes = np.split(np.array(rewards_all_episodes),num_episodes/1000)\n",
    "count = 1000\n",
    "print(\"********Average reword per thousand episodes********\\n\")\n",
    "for r in rewards_per_thousand_episodes:\n",
    "    print(count,\":\",str(sum(r/1000))) # this is mean\n",
    "    count += 1000"
   ]
  },
  {
   "cell_type": "code",
   "execution_count": 75,
   "metadata": {},
   "outputs": [
    {
     "name": "stdout",
     "output_type": "stream",
     "text": [
      "\n",
      "*****Q-table*****\n",
      "\n",
      "[[0.54979911 0.48490656 0.47064936 0.48264138]\n",
      " [0.24479668 0.26930774 0.28986074 0.49443765]\n",
      " [0.39766536 0.39934401 0.38650105 0.45802324]\n",
      " [0.26102448 0.36372579 0.26587155 0.42152691]\n",
      " [0.56812497 0.39230691 0.36137309 0.45522783]\n",
      " [0.         0.         0.         0.        ]\n",
      " [0.20258606 0.17680912 0.2928456  0.20744526]\n",
      " [0.         0.         0.         0.        ]\n",
      " [0.31978946 0.46644102 0.28845309 0.59436039]\n",
      " [0.46261897 0.67938271 0.36608331 0.4364657 ]\n",
      " [0.67532147 0.35699839 0.31378095 0.25309971]\n",
      " [0.         0.         0.         0.        ]\n",
      " [0.         0.         0.         0.        ]\n",
      " [0.44482214 0.46259286 0.79795219 0.42066588]\n",
      " [0.70669799 0.94505402 0.74459707 0.72245988]\n",
      " [0.         0.         0.         0.        ]]\n"
     ]
    }
   ],
   "source": [
    "# Print the updated Q-table\n",
    "print(\"\\n*****Q-table*****\\n\")\n",
    "print(q_table)"
   ]
  },
  {
   "cell_type": "code",
   "execution_count": 77,
   "metadata": {},
   "outputs": [
    {
     "name": "stdout",
     "output_type": "stream",
     "text": [
      "  (Left)\n",
      "SFFF\n",
      "FHFH\n",
      "FFFH\n",
      "\u001b[41mH\u001b[0mFFG\n",
      "*******You fell though a hole!********************\n"
     ]
    }
   ],
   "source": [
    "# Watch our agent play the game according to the Q-table\n",
    "\n",
    "# Let's play 3 times:\n",
    "for episode in range(10):\n",
    "    # initialize new episode params\n",
    "    state = env.reset()\n",
    "    done = False\n",
    "    print(\"*******EPISODE {} *********\\n\\n\\n\".format(episode+1))\n",
    "    time.sleep(1)\n",
    "    # show every step\n",
    "    for step in range(max_steps_per_episode):\n",
    "        # Show current state of env on screen\n",
    "        clear_output(wait=True)\n",
    "        env.render()\n",
    "        time.sleep(0.3)\n",
    "        # Choose action with highest Q-value for currnet state\n",
    "        action = np.argmax(q_table[state,:])\n",
    "        # Take new action\n",
    "        new_state,reward,done,info = env.step(action)\n",
    "        # game over\n",
    "        if done:\n",
    "            clear_output(wait=True)\n",
    "            env.render()\n",
    "            if reward == 1: #win\n",
    "                print(\"*****You reach the goal!**********\")\n",
    "                time.sleep(3)\n",
    "            else: # lose\n",
    "                print(\"*******You fell though a hole!********************\")\n",
    "                time.sleep(3)\n",
    "                clear_output(wait=True)\n",
    "            break\n",
    "        # Set new state"
   ]
  },
  {
   "cell_type": "code",
   "execution_count": null,
   "metadata": {},
   "outputs": [],
   "source": []
  }
 ],
 "metadata": {
  "kernelspec": {
   "display_name": "Python 3",
   "language": "python",
   "name": "python3"
  },
  "language_info": {
   "codemirror_mode": {
    "name": "ipython",
    "version": 3
   },
   "file_extension": ".py",
   "mimetype": "text/x-python",
   "name": "python",
   "nbconvert_exporter": "python",
   "pygments_lexer": "ipython3",
   "version": "3.6.5"
  }
 },
 "nbformat": 4,
 "nbformat_minor": 2
}
