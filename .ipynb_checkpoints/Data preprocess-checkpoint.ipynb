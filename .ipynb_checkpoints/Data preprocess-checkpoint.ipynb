{
 "cells": [
  {
   "cell_type": "code",
   "execution_count": null,
   "metadata": {},
   "outputs": [],
   "source": [
    "from pypinyin import pinyin,lazy_pinyin\n",
    "import pypinyin\n",
    "import tensorflow as tf\n",
    "import numpy as np\n",
    "import os\n",
    "import re"
   ]
  },
  {
   "cell_type": "code",
   "execution_count": null,
   "metadata": {},
   "outputs": [],
   "source": [
    "# 生成拼音句子\n",
    "def pinyin_sentence(sentences):  \n",
    "    pinyin = lazy_pinyin(sentences,style=pypinyin.TONE3)\n",
    "    return \" \".join(pinyin)"
   ]
  },
  {
   "cell_type": "code",
   "execution_count": null,
   "metadata": {},
   "outputs": [],
   "source": [
    "# 读取文件目录，查找特定后缀名文件\n",
    "files = os.listdir('data')\n",
    "files = list(filter(lambda x : x.endswith('.trn'),files))"
   ]
  },
  {
   "cell_type": "code",
   "execution_count": null,
   "metadata": {},
   "outputs": [],
   "source": [
    "# 读取文件\n",
    "data = []\n",
    "with open('data/' + file,'r') as f:\n",
    "    for line in f:\n",
    "        data.append(line)\n",
    "        \n",
    "# 更好的方式\n",
    "with open('data/' + file,'r') as f:\n",
    "    data = f.readlines()"
   ]
  },
  {
   "cell_type": "code",
   "execution_count": null,
   "metadata": {},
   "outputs": [],
   "source": [
    "# 去掉换行符号\n",
    "re.sub(r'\\n', \"\", data[1])"
   ]
  },
  {
   "cell_type": "code",
   "execution_count": null,
   "metadata": {},
   "outputs": [],
   "source": [
    "# 列表变成字符串\n",
    "string = \"\".join(metadata)"
   ]
  },
  {
   "cell_type": "code",
   "execution_count": null,
   "metadata": {},
   "outputs": [],
   "source": [
    "# 查看字符串组成\n",
    "set(string)"
   ]
  },
  {
   "cell_type": "code",
   "execution_count": null,
   "metadata": {},
   "outputs": [],
   "source": [
    "# 生成csv文件\n",
    "my_df = pd.DataFrame(metadata)\n",
    "my_df.to_csv('metadata.csv', index=False, header=False)"
   ]
  },
  {
   "cell_type": "code",
   "execution_count": null,
   "metadata": {},
   "outputs": [],
   "source": [
    "# 正则替换\n",
    "line = re.sub(r':', \"：\", line)\n",
    "line = re.sub(r'\\?', \"？\", line)"
   ]
  },
  {
   "cell_type": "code",
   "execution_count": null,
   "metadata": {},
   "outputs": [],
   "source": [
    "# 替换拼音音调\n",
    "dic = list(\"①①②③④\")\n",
    "line = re.sub(r'[a-z]\\d',lambda x : x.group(0)[0] + dic[int(x.group(0)[1])], line)"
   ]
  },
  {
   "cell_type": "code",
   "execution_count": null,
   "metadata": {},
   "outputs": [],
   "source": [
    "# 数字转换成中文\n",
    "nums = ['零', '一', '二', '三', '四', '五', '六', '七', '八', '九']\n",
    "small_int_label = ['', '十', '百', '千','万','亿']\n",
    "\n",
    "def part2word(num):\n",
    "    word = ''\n",
    "    length = len(str(num))\n",
    "    for i,number in enumerate(str(num)):j\n",
    "        word += nums[int(number)] + small_int_label[length - i -1]\n",
    "    word = re.sub(r'零\\S', \"零\", word)\n",
    "    word = re.sub(r'零+', \"零\", word)\n",
    "    word = re.sub(r'零$', \"\", word)\n",
    "    return word\n",
    "\n",
    "def num2word(num):\n",
    "    word = ''\n",
    "    if len(str(num)) > 5:\n",
    "        part_num = str(num)[:-4]\n",
    "        word += part2word(str(part_num)) + '万'\n",
    "        part_num = str(num)[-4:]\n",
    "        word += part2word(str(part_num))\n",
    "    else:\n",
    "        word = part2word(str(num))\n",
    "    return word"
   ]
  },
  {
   "cell_type": "code",
   "execution_count": null,
   "metadata": {},
   "outputs": [],
   "source": [
    "# 正则打包函数\n",
    "def number2word_wrapper(matched):\n",
    "    return num2word(matched.group())\n",
    "\n",
    "def numberD2word_wrapper(matched):\n",
    "    return nums[int(matched.group())]\n",
    "\n",
    "one_data[0] = re.sub(r'\\d+\\.*\\d*', number2word_wrapper, one_data[0], count=0, flags=0)"
   ]
  },
  {
   "cell_type": "code",
   "execution_count": 95,
   "metadata": {},
   "outputs": [],
   "source": [
    "# 分割数据集\n",
    "from sklearn.model_selection import train_test_split\n",
    "data_train,data_test = train_test_split(new_data,test_size=0.03)"
   ]
  },
  {
   "cell_type": "code",
   "execution_count": 113,
   "metadata": {},
   "outputs": [],
   "source": [
    "# 一行行写入文件，不会有引号，需要自己加换行符\n",
    "with open('ljs_audio_text_train_filelist.txt','w') as f:\n",
    "    for data in data_train:\n",
    "        f.write(data)"
   ]
  }
 ],
 "metadata": {
  "kernelspec": {
   "display_name": "Python 3",
   "language": "python",
   "name": "python3"
  },
  "language_info": {
   "codemirror_mode": {
    "name": "ipython",
    "version": 3
   },
   "file_extension": ".py",
   "mimetype": "text/x-python",
   "name": "python",
   "nbconvert_exporter": "python",
   "pygments_lexer": "ipython3",
   "version": "3.6.5"
  }
 },
 "nbformat": 4,
 "nbformat_minor": 2
}
