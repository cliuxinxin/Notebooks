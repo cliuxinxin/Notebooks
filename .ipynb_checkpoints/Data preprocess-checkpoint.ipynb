{
 "cells": [
  {
   "cell_type": "code",
   "execution_count": null,
   "metadata": {},
   "outputs": [],
   "source": [
    "# 生成拼音句子\n",
    "from pypinyin import pinyin,lazy_pinyin\n",
    "import pypinyin\n",
    "\n",
    "def pinyin_sentence(sentences):  \n",
    "    pinyin = lazy_pinyin(sentences,style=pypinyin.TONE3)\n",
    "    return \" \".join(pinyin)"
   ]
  },
  {
   "cell_type": "code",
   "execution_count": null,
   "metadata": {},
   "outputs": [],
   "source": [
    "# 读取文件目录，查找特定后缀名文件\n",
    "import os\n",
    "files = os.listdir('data')\n",
    "files = list(filter(lambda x : x.endswith('.trn'),files))"
   ]
  },
  {
   "cell_type": "code",
   "execution_count": null,
   "metadata": {},
   "outputs": [],
   "source": [
    "# 查找某类文件并且放到一个文件夹里面\n",
    "find  test/  -name '*.wav' -exec mv {} t \\;"
   ]
  },
  {
   "cell_type": "code",
   "execution_count": null,
   "metadata": {},
   "outputs": [],
   "source": [
    "# 读取文件\n",
    "data = []\n",
    "with open('data/' + file,'r') as f:\n",
    "    for line in f:\n",
    "        data.append(line)\n",
    "        \n",
    "# 更好的方式\n",
    "with open('data/' + file,'r') as f:\n",
    "    data = f.readlines()"
   ]
  },
  {
   "cell_type": "code",
   "execution_count": null,
   "metadata": {},
   "outputs": [],
   "source": [
    "# 去掉换行符号\n",
    "re.sub(r'\\n', \"\", data[1])"
   ]
  },
  {
   "cell_type": "code",
   "execution_count": null,
   "metadata": {},
   "outputs": [],
   "source": [
    "# 列表变成字符串\n",
    "string = \"\".join(metadata)"
   ]
  },
  {
   "cell_type": "code",
   "execution_count": null,
   "metadata": {},
   "outputs": [],
   "source": [
    "# 查看字符串组成\n",
    "set(string)"
   ]
  },
  {
   "cell_type": "code",
   "execution_count": null,
   "metadata": {},
   "outputs": [],
   "source": [
    "# 生成csv文件\n",
    "my_df = pd.DataFrame(metadata)\n",
    "my_df.to_csv('metadata.csv', index=False, header=False)"
   ]
  },
  {
   "cell_type": "code",
   "execution_count": null,
   "metadata": {},
   "outputs": [],
   "source": [
    "# 正则替换\n",
    "line = re.sub(r':', \"：\", line)\n",
    "line = re.sub(r'\\?', \"？\", line)"
   ]
  },
  {
   "cell_type": "code",
   "execution_count": null,
   "metadata": {},
   "outputs": [],
   "source": [
    "# 替换拼音音调\n",
    "dic = list(\"①①②③④\")\n",
    "line = re.sub(r'[a-z]\\d',lambda x : x.group(0)[0] + dic[int(x.group(0)[1])], line)"
   ]
  },
  {
   "cell_type": "code",
   "execution_count": 5,
   "metadata": {},
   "outputs": [],
   "source": [
    "import re\n",
    "# 数字转换成中文\n",
    "nums = ['零', '一', '二', '三', '四', '五', '六', '七', '八', '九']\n",
    "small_int_label = ['', '十', '百', '千','万','亿']\n",
    "\n",
    "def part2word(num):\n",
    "    word = ''\n",
    "    length = len(str(num))\n",
    "    for i,number in enumerate(str(num)):\n",
    "        word += nums[int(number)] + small_int_label[length - i -1]\n",
    "    word = re.sub(r'零\\S', \"零\", word)\n",
    "    word = re.sub(r'零+', \"零\", word)\n",
    "    word = re.sub(r'零$', \"\", word)\n",
    "    return word\n",
    "\n",
    "def num2word(num):\n",
    "    word = ''\n",
    "    if len(str(num)) > 5:\n",
    "        part_num = str(num)[:-4]\n",
    "        word += part2word(str(part_num)) + '万'\n",
    "        part_num = str(num)[-4:]\n",
    "        word += part2word(str(part_num))\n",
    "    else:\n",
    "        word = part2word(str(num))\n",
    "    return word"
   ]
  },
  {
   "cell_type": "code",
   "execution_count": null,
   "metadata": {},
   "outputs": [],
   "source": [
    "# 正则打包函数\n",
    "def number2word_wrapper(matched):\n",
    "    return num2word(matched.group())\n",
    "\n",
    "def numberD2word_wrapper(matched):\n",
    "    return nums[int(matched.group())]\n",
    "\n",
    "one_data[0] = re.sub(r'\\d+\\.*\\d*', number2word_wrapper, one_data[0], count=0, flags=0)"
   ]
  },
  {
   "cell_type": "code",
   "execution_count": 95,
   "metadata": {},
   "outputs": [],
   "source": [
    "# 分割数据集\n",
    "from sklearn.model_selection import train_test_split\n",
    "\n",
    "questions_train,questions_test,answers_trian,answers_test = train_test_split(questions,answers,test_size=0.03)"
   ]
  },
  {
   "cell_type": "code",
   "execution_count": 113,
   "metadata": {},
   "outputs": [],
   "source": [
    "# 一行行写入文件，不会有引号，需要自己加换行符，增加zip的功能\n",
    "datasets = [questions_train,questions_test,answers_trian,answers_test]\n",
    "file_paths = ['questions_train.txt','questions_test.txt','answers_trian.txt','answers_test.txt']\n",
    "for dataset,file_path in zip(datasets,file_paths):\n",
    "    with open(file_path,'w') as f:\n",
    "        for data in dataset:\n",
    "            f.write(data)\n",
    "            f.write('\\n')"
   ]
  },
  {
   "cell_type": "code",
   "execution_count": 18,
   "metadata": {},
   "outputs": [],
   "source": [
    "# 数字转中文另外的写法\n",
    "import re\n",
    "\n",
    "nums = ['零', '一', '二', '三', '四', '五', '六', '七', '八', '九']\n",
    "small_int_label = ['', '十', '百', '千']\n",
    "small_label = ['','万','亿']\n",
    "\n",
    "def num2word(number):\n",
    "    # 处理小数部分\n",
    "    number = number.split('.')\n",
    "    yi_part = ''\n",
    "    wan_part = ''\n",
    "    decimal_part = ''\n",
    "    if len(number) == 2:\n",
    "        decimal_part = '点' + decimal_convert(number[1])\n",
    "    # 处理亿\n",
    "    if len(number[0]) > 8:\n",
    "        yi_part =  convert2word(number[0][:-8]) + '亿'\n",
    "#         yi_part = change_zero(yi_part) + '亿'\n",
    "    if len(number[0]) > 4:\n",
    "        wan_part = convert2word(number[0][-8:-4]) + '万'\n",
    "#         wan_part = change_zero(wan_part) + '万'\n",
    "    word = convert2word(number[0][-4:])\n",
    "    word = change_zero(word)\n",
    "    word = yi_part + wan_part + word + decimal_part\n",
    "    return word\n",
    "\n",
    "def decimal_convert(number):\n",
    "    number = list(number)\n",
    "    word = ''\n",
    "    for digit in number:\n",
    "        word += nums[int(digit)]\n",
    "    return word\n",
    "\n",
    "def change_zero(word):\n",
    "    word = re.sub(r'零\\S', \"零\", word)\n",
    "    word = re.sub(r'零+', \"零\", word)\n",
    "    word = re.sub(r'零$', \"\", word)\n",
    "    return word\n",
    "    \n",
    "def convert2word(number,place=0):\n",
    "    last_word = nums[int(number[-1])] + small_int_label[place]\n",
    "    if len(number) == 1:\n",
    "        return last_word\n",
    "    else:\n",
    "        return convert2word(number[:-1],place+1) + last_word"
   ]
  },
  {
   "cell_type": "code",
   "execution_count": 21,
   "metadata": {},
   "outputs": [
    {
     "name": "stdout",
     "output_type": "stream",
     "text": [
      "输入格式：E:\\myprojectnew\\jupyter\\整理文件夹\\示例\n"
     ]
    }
   ],
   "source": [
    "# 递归读取文件\n",
    "import os  \n",
    "import shutil \n",
    "path = '2'\n",
    "new_path = '3'\n",
    "for root, dirs, files in os.walk(path):\n",
    "    for i in range(len(files)):\n",
    "        #print(files[i])\n",
    "        if (files[i][-3:] == 'wav'):\n",
    "            file_path = root+'/'+files[i]  \n",
    "            new_file_path = new_path+ '/'+ files[i]  \n",
    "            shutil.copy(file_path,new_file_path) "
   ]
  },
  {
   "cell_type": "code",
   "execution_count": 30,
   "metadata": {},
   "outputs": [],
   "source": [
    "# 生成拼音句子\n",
    "from pypinyin import pinyin,lazy_pinyin\n",
    "import pypinyin\n",
    "\n",
    "def pinyin_sentence(sentences):  \n",
    "    pinyin = lazy_pinyin(sentences,style=pypinyin.TONE3)\n",
    "    return \" \".join(pinyin)"
   ]
  }
 ],
 "metadata": {
  "kernelspec": {
   "display_name": "Python 3",
   "language": "python",
   "name": "python3"
  },
  "language_info": {
   "codemirror_mode": {
    "name": "ipython",
    "version": 3
   },
   "file_extension": ".py",
   "mimetype": "text/x-python",
   "name": "python",
   "nbconvert_exporter": "python",
   "pygments_lexer": "ipython3",
   "version": "3.6.5"
  }
 },
 "nbformat": 4,
 "nbformat_minor": 2
}
