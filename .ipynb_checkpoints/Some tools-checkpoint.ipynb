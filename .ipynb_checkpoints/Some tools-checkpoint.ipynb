{
 "cells": [
  {
   "cell_type": "code",
   "execution_count": null,
   "metadata": {},
   "outputs": [],
   "source": [
    "# 查看环境安装情况\n",
    "!pip freeze | grep tensor"
   ]
  },
  {
   "cell_type": "code",
   "execution_count": null,
   "metadata": {},
   "outputs": [],
   "source": [
    "# 查看文件行数\n",
    "!wc -l data/poetry/*.txt"
   ]
  },
  {
   "cell_type": "code",
   "execution_count": null,
   "metadata": {},
   "outputs": [],
   "source": [
    "# 查看文件内容\n",
    "!head -5 data/poetry/*.txt"
   ]
  },
  {
   "cell_type": "code",
   "execution_count": null,
   "metadata": {},
   "outputs": [],
   "source": [
    "# 多文件操作\n",
    "with open('data/poetry/raw.txt', 'r') as rawfp,\\\n",
    "  open('data/poetry/input.txt', 'w') as infp,\\\n",
    "  open('data/poetry/output.txt', 'w') as outfp:\n",
    "    \n",
    "    prev_line = ''\n",
    "    for curr_line in rawfp:\n",
    "        curr_line = curr_line.strip()\n",
    "        # poems break at empty lines, so this ensures we train only\n",
    "        # on lines of the same poem\n",
    "        if len(prev_line) > 0 and len(curr_line) > 0:       \n",
    "            infp.write(prev_line + '\\n')\n",
    "            outfp.write(curr_line + '\\n')\n",
    "        prev_line = curr_line"
   ]
  },
  {
   "cell_type": "code",
   "execution_count": null,
   "metadata": {},
   "outputs": [],
   "source": [
    "#github忽略文件\n",
    "touch .gitignore\n",
    "vi .gitignore\n",
    "# 忽略文件夹\n",
    "/doc/"
   ]
  },
  {
   "cell_type": "code",
   "execution_count": null,
   "metadata": {},
   "outputs": [],
   "source": [
    "# 合并checkpoints\n",
    "python avg_checkpoints.py --checkpoints=[tacotron_model.ckpt-345000,tacotron_model.ckpt-350000] --output_path=\"/Users/liuxinxin/Downloads/new.ckpt\""
   ]
  },
  {
   "cell_type": "code",
   "execution_count": null,
   "metadata": {},
   "outputs": [],
   "source": [
    "# tf.reduce_mean 说明\n",
    "a = tf.random_uniform([2,3],minval=5,\n",
    "    maxval=5,)\n",
    "# [[5. 5. 5.]\n",
    "#  [5. 5. 5.]]\n",
    "b = tf.reduce_mean(a,-1)\n",
    "# [5. 5.]\n",
    "b = tf.reduce_mean(a)\n",
    "# 5.0\n",
    "b = tf.reduce_mean(a,-1,keepdims=True)\n",
    "# [[5.]\n",
    "#  [5.]]"
   ]
  },
  {
   "cell_type": "code",
   "execution_count": null,
   "metadata": {},
   "outputs": [],
   "source": [
    "# 使用request访问api\n",
    "import requests\n",
    "\n",
    "sentences = \"测试语句\"\n",
    "url = 'http://127.0.0.1:19877/?sentences=' + sentences\n",
    "crawl_content = requests.get(url)\n",
    "crawl_content.text"
   ]
  },
  {
   "cell_type": "code",
   "execution_count": null,
   "metadata": {},
   "outputs": [],
   "source": [
    "# 异步访问\n",
    "async def call_coroutine(session, url,i,files):\n",
    "    with async_timeout.timeout(60):\n",
    "        async with session.get(url) as response:\n",
    "            content = await response.text()\n",
    "            content = json.loads(content)\n",
    "            files[i] = content['wav_file']\n",
    "            print(content['wav_file'])\n",
    "            print(i)\n",
    "            return await response.release()\n",
    " \n",
    " \n",
    "async def main(loop,sentences,files):\n",
    "    async with aiohttp.ClientSession(loop=loop) as session:\n",
    "        tasks = [call_coroutine(session, 'http://127.0.0.1:8099/?sentences=' + sentence,i,files) for i,sentence in enumerate(sentences)]\n",
    "        await asyncio.gather(*tasks)\n",
    "\n",
    "\n",
    "def synic(sentences):\n",
    "    start = time()\n",
    "    files = {}\n",
    "    loop = asyncio.new_event_loop()\n",
    "    asyncio.set_event_loop(loop)\n",
    "    loop.run_until_complete(main(loop,sentences,files))\n",
    "    files  = sorted(files.items(),key = lambda item:item[0])\n",
    "    files = [file[1]+'.wav'  for file in files]\n",
    "    if len(files) > 1:\n",
    "        break_wav = [\"480ms.wav\"] * (len(files) - 1)\n",
    "        j = 1\n",
    "        for i, ele in enumerate(break_wav):\n",
    "            files.insert(i + j, ele)\n",
    "            j += 1\n",
    "        files = ['wav_out/' + filename for filename in files]\n",
    "        cbn = sox.Combiner()\n",
    "        nowTime = datetime.now().strftime('%Y%m%d%H%M%S')\n",
    "        output_file = 'wav-' + nowTime + '.wav'\n",
    "        cbn.build(files, 'wav_out/' + output_file, 'concatenate')\n",
    "    else:\n",
    "        output_file = files[0]\n",
    "    stop = time()\n",
    "    print(stop - start)\n",
    "    return output_file"
   ]
  },
  {
   "cell_type": "code",
   "execution_count": null,
   "metadata": {},
   "outputs": [],
   "source": [
    "# 设置互信\n",
    "# 生成秘钥\n",
    "ssh-keygen -t rsa\n",
    "# 把id_rsa.pub内容写入authorized_keys中\n",
    "# 修改权限\n",
    "chmod 700 .ssh #.ssh权限\n",
    "chmod 600 authorized_keys"
   ]
  },
  {
   "cell_type": "code",
   "execution_count": null,
   "metadata": {},
   "outputs": [],
   "source": []
  }
 ],
 "metadata": {
  "kernelspec": {
   "display_name": "Python 3",
   "language": "python",
   "name": "python3"
  },
  "language_info": {
   "codemirror_mode": {
    "name": "ipython",
    "version": 3
   },
   "file_extension": ".py",
   "mimetype": "text/x-python",
   "name": "python",
   "nbconvert_exporter": "python",
   "pygments_lexer": "ipython3",
   "version": "3.6.5"
  }
 },
 "nbformat": 4,
 "nbformat_minor": 2
}
