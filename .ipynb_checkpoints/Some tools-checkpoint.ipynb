{
 "cells": [
  {
   "cell_type": "code",
   "execution_count": null,
   "metadata": {},
   "outputs": [],
   "source": [
    "# 查看环境安装情况\n",
    "!pip freeze | grep tensor"
   ]
  },
  {
   "cell_type": "code",
   "execution_count": null,
   "metadata": {},
   "outputs": [],
   "source": [
    "# 查看文件行数\n",
    "!wc -l data/poetry/*.txt"
   ]
  },
  {
   "cell_type": "code",
   "execution_count": null,
   "metadata": {},
   "outputs": [],
   "source": [
    "# 查看文件内容\n",
    "!head -5 data/poetry/*.txt"
   ]
  },
  {
   "cell_type": "code",
   "execution_count": null,
   "metadata": {},
   "outputs": [],
   "source": [
    "# 多文件操作\n",
    "with open('data/poetry/raw.txt', 'r') as rawfp,\\\n",
    "  open('data/poetry/input.txt', 'w') as infp,\\\n",
    "  open('data/poetry/output.txt', 'w') as outfp:\n",
    "    \n",
    "    prev_line = ''\n",
    "    for curr_line in rawfp:\n",
    "        curr_line = curr_line.strip()\n",
    "        # poems break at empty lines, so this ensures we train only\n",
    "        # on lines of the same poem\n",
    "        if len(prev_line) > 0 and len(curr_line) > 0:       \n",
    "            infp.write(prev_line + '\\n')\n",
    "            outfp.write(curr_line + '\\n')\n",
    "        prev_line = curr_line"
   ]
  },
  {
   "cell_type": "code",
   "execution_count": null,
   "metadata": {},
   "outputs": [],
   "source": [
    "#github忽略文件\n",
    "touch .gitignore\n",
    "vi .gitignore\n",
    "# 忽略文件夹\n",
    "/doc/"
   ]
  },
  {
   "cell_type": "code",
   "execution_count": null,
   "metadata": {},
   "outputs": [],
   "source": [
    "# 合并checkpoints\n",
    "python avg_checkpoints.py --checkpoints=[tacotron_model.ckpt-345000,tacotron_model.ckpt-350000] --output_path=\"/Users/liuxinxin/Downloads/new.ckpt\""
   ]
  },
  {
   "cell_type": "code",
   "execution_count": null,
   "metadata": {},
   "outputs": [],
   "source": [
    "# tf.reduce_mean 说明\n",
    "a = tf.random_uniform([2,3],minval=5,\n",
    "    maxval=5,)\n",
    "# [[5. 5. 5.]\n",
    "#  [5. 5. 5.]]\n",
    "b = tf.reduce_mean(a,-1)\n",
    "# [5. 5.]\n",
    "b = tf.reduce_mean(a)\n",
    "# 5.0\n",
    "b = tf.reduce_mean(a,-1,keepdims=True)\n",
    "# [[5.]\n",
    "#  [5.]]"
   ]
  },
  {
   "cell_type": "code",
   "execution_count": null,
   "metadata": {},
   "outputs": [],
   "source": [
    "# 使用request访问api\n",
    "import requests\n",
    "\n",
    "sentences = \"测试语句\"\n",
    "url = 'http://127.0.0.1:19877/?sentences=' + sentences\n",
    "crawl_content = requests.get(url)\n",
    "crawl_content.text"
   ]
  },
  {
   "cell_type": "code",
   "execution_count": null,
   "metadata": {},
   "outputs": [],
   "source": [
    "# 异步访问\n",
    "async def call_coroutine(session, url,i,files):\n",
    "    with async_timeout.timeout(60):\n",
    "        async with session.get(url) as response:\n",
    "            content = await response.text()\n",
    "            content = json.loads(content)\n",
    "            files[i] = content['wav_file']\n",
    "            print(content['wav_file'])\n",
    "            print(i)\n",
    "            return await response.release()\n",
    " \n",
    " \n",
    "async def main(loop,sentences,files):\n",
    "    async with aiohttp.ClientSession(loop=loop) as session:\n",
    "        tasks = [call_coroutine(session, 'http://127.0.0.1:8099/?sentences=' + sentence,i,files) for i,sentence in enumerate(sentences)]\n",
    "        await asyncio.gather(*tasks)\n",
    "\n",
    "\n",
    "def synic(sentences):\n",
    "    start = time()\n",
    "    files = {}\n",
    "    loop = asyncio.new_event_loop()\n",
    "    asyncio.set_event_loop(loop)\n",
    "    loop.run_until_complete(main(loop,sentences,files))\n",
    "    files  = sorted(files.items(),key = lambda item:item[0])\n",
    "    files = [file[1]+'.wav'  for file in files]\n",
    "    if len(files) > 1:\n",
    "        break_wav = [\"480ms.wav\"] * (len(files) - 1)\n",
    "        j = 1\n",
    "        for i, ele in enumerate(break_wav):\n",
    "            files.insert(i + j, ele)\n",
    "            j += 1\n",
    "        files = ['wav_out/' + filename for filename in files]\n",
    "        cbn = sox.Combiner()\n",
    "        nowTime = datetime.now().strftime('%Y%m%d%H%M%S')\n",
    "        output_file = 'wav-' + nowTime + '.wav'\n",
    "        cbn.build(files, 'wav_out/' + output_file, 'concatenate')\n",
    "    else:\n",
    "        output_file = files[0]\n",
    "    stop = time()\n",
    "    print(stop - start)\n",
    "    return output_file"
   ]
  },
  {
   "cell_type": "code",
   "execution_count": null,
   "metadata": {},
   "outputs": [],
   "source": [
    "# 设置互信\n",
    "# 生成秘钥\n",
    "ssh-keygen -t rsa\n",
    "# 把id_rsa.pub内容写入authorized_keys中\n",
    "# 修改权限\n",
    "chmod 700 .ssh #.ssh权限\n",
    "chmod 600 authorized_keys"
   ]
  },
  {
   "cell_type": "code",
   "execution_count": null,
   "metadata": {},
   "outputs": [],
   "source": [
    "# ubuntu 压缩文件\n",
    " tar -zcvf workspace.tar.gz worksapce"
   ]
  },
  {
   "cell_type": "code",
   "execution_count": 1,
   "metadata": {},
   "outputs": [
    {
     "name": "stdout",
     "output_type": "stream",
     "text": [
      "send command:\n",
      "scp -P 22 /Users/liuxinxin/Downloads//inference.ipynb zpf@106.120.3.69:/home/zpf/exp/tacotron2/\n",
      "rece_command:\n",
      "scp -P 22 zpf@106.120.3.69:/home/zpf/exp/tacotron2/inference.ipynb /Users/liuxinxin/Downloads/\n"
     ]
    }
   ],
   "source": [
    "# 生成传输数据\n",
    "server_admin = \"zpf\"\n",
    "server_address = \"106.120.3.69\"\n",
    "server_dir = \"/home/zpf/exp/tacotron2/\"\n",
    "home_dir = \"/Users/liuxinxin/Downloads/\"\n",
    "file_name = \"inference.ipynb\"\n",
    "\n",
    "send_command = \"scp -P 22 \"+ home_dir + \"/\" + file_name + \" \" + server_admin + \"@\" + server_address + \":\" + server_dir\n",
    "rece_command = \"scp -P 22 \"+ server_admin + \"@\" + server_address + \":\" + server_dir + file_name + \" \" + home_dir \n",
    "print(\"send command:\")\n",
    "print(send_command)\n",
    "print(\"rece_command:\")\n",
    "print(rece_command)"
   ]
  },
  {
   "cell_type": "code",
   "execution_count": null,
   "metadata": {},
   "outputs": [],
   "source": [
    "# 查看端口占用情况\n",
    "lsof -i tcp:8099"
   ]
  },
  {
   "cell_type": "code",
   "execution_count": null,
   "metadata": {},
   "outputs": [],
   "source": [
    "# json不能传输ndarray的问题，如果解决\n",
    "import numpy as np\n",
    "import json\n",
    "\n",
    "# ndarray 无法序列化\n",
    "class NumpyEncoder(json.JSONEncoder):\n",
    "    def default(self, obj):\n",
    "        if isinstance(obj, np.ndarray):\n",
    "            return obj.tolist()\n",
    "        return json.JSONEncoder.default(self, obj)\n",
    "\n",
    "a = np.array([1, 2, 3])\n",
    "print(json.dumps({'aa': [2, (2, 3, 4), a], 'bb': [2]}, cls=NumpyEncoder))"
   ]
  },
  {
   "cell_type": "code",
   "execution_count": null,
   "metadata": {},
   "outputs": [],
   "source": [
    "# mac sh 文件可以执行\n",
    "chmod u+x"
   ]
  },
  {
   "cell_type": "code",
   "execution_count": null,
   "metadata": {},
   "outputs": [],
   "source": [
    "# 大文件查询\n",
    "du --max-depth=1 -h ."
   ]
  },
  {
   "cell_type": "code",
   "execution_count": null,
   "metadata": {},
   "outputs": [],
   "source": [
    "# 安装redis\n",
    "下载https://redis.io/download\n",
    "$ cd redis-3.2.8\n",
    "$ make\n",
    "$ sudo make install \n",
    "# 运行\n",
    "/usr/local/bin\n",
    "redis-server"
   ]
  },
  {
   "cell_type": "code",
   "execution_count": null,
   "metadata": {},
   "outputs": [],
   "source": [
    "# 使用redis\n",
    "import redis   # 导入redis模块，通过python操作redis 也可以直接在redis主机的服务端操作缓存数据库\n",
    "\n",
    "r = redis.Redis(host='localhost', port=6379, decode_responses=True)   # host是redis主机，需要redis服务端和客户端都启动 redis默认端口是6379\n",
    "r.set('name', 'junxi')  # key是\"foo\" value是\"bar\" 将键值对存入redis缓存\n",
    "print(r['name'])\n",
    "print(r.get('name'))  # 取出键name对应的值\n",
    "print(type(r.get('name')))\n"
   ]
  }
 ],
 "metadata": {
  "kernelspec": {
   "display_name": "Python 3",
   "language": "python",
   "name": "python3"
  },
  "language_info": {
   "codemirror_mode": {
    "name": "ipython",
    "version": 3
   },
   "file_extension": ".py",
   "mimetype": "text/x-python",
   "name": "python",
   "nbconvert_exporter": "python",
   "pygments_lexer": "ipython3",
   "version": "3.6.5"
  }
 },
 "nbformat": 4,
 "nbformat_minor": 2
}
