{
 "cells": [
  {
   "cell_type": "code",
   "execution_count": null,
   "metadata": {},
   "outputs": [],
   "source": [
    "from pypinyin import pinyin,lazy_pinyin\n",
    "import pypinyin\n",
    "import tensorflow as tf\n",
    "import numpy as np\n",
    "import os\n",
    "import re"
   ]
  },
  {
   "cell_type": "code",
   "execution_count": null,
   "metadata": {},
   "outputs": [],
   "source": [
    "# 生成拼音句子\n",
    "def pinyin_sentence(sentences):  \n",
    "    pinyin = lazy_pinyin(sentences,style=pypinyin.TONE3)\n",
    "    return \" \".join(pinyin)"
   ]
  },
  {
   "cell_type": "code",
   "execution_count": null,
   "metadata": {},
   "outputs": [],
   "source": [
    "# 读取文件目录，查找特定后缀名文件\n",
    "files = os.listdir('data')\n",
    "files = list(filter(lambda x : x.endswith('.trn'),files))"
   ]
  },
  {
   "cell_type": "code",
   "execution_count": null,
   "metadata": {},
   "outputs": [],
   "source": [
    "# 读取文件\n",
    "data = []\n",
    "with open('data/' + file,'r') as f:\n",
    "    for line in f:\n",
    "        data.append(line)\n",
    "        \n",
    "# 更好的方式\n",
    "with open('data/' + file,'r') as f:\n",
    "    data = f.readlines()"
   ]
  },
  {
   "cell_type": "code",
   "execution_count": null,
   "metadata": {},
   "outputs": [],
   "source": [
    "# 去掉换行符号\n",
    "re.sub(r'\\n', \"\", data[1])"
   ]
  },
  {
   "cell_type": "code",
   "execution_count": null,
   "metadata": {},
   "outputs": [],
   "source": [
    "# 列表变成字符串\n",
    "string = \"\".join(metadata)"
   ]
  },
  {
   "cell_type": "code",
   "execution_count": null,
   "metadata": {},
   "outputs": [],
   "source": [
    "# 查看字符串组成\n",
    "set(string)"
   ]
  },
  {
   "cell_type": "code",
   "execution_count": null,
   "metadata": {},
   "outputs": [],
   "source": [
    "# 生成csv文件\n",
    "my_df = pd.DataFrame(metadata)\n",
    "my_df.to_csv('metadata.csv', index=False, header=False)"
   ]
  },
  {
   "cell_type": "code",
   "execution_count": null,
   "metadata": {},
   "outputs": [],
   "source": [
    "# 正则替换\n",
    "line = re.sub(r':', \"：\", line)\n",
    "line = re.sub(r'\\?', \"？\", line)"
   ]
  },
  {
   "cell_type": "code",
   "execution_count": null,
   "metadata": {},
   "outputs": [],
   "source": [
    "# 替换拼音音调\n",
    "dic = list(\"①①②③④\")\n",
    "line = re.sub(r'[a-z]\\d',lambda x : x.group(0)[0] + dic[int(x.group(0)[1])], line)"
   ]
  }
 ],
 "metadata": {
  "kernelspec": {
   "display_name": "Python 3",
   "language": "python",
   "name": "python3"
  },
  "language_info": {
   "codemirror_mode": {
    "name": "ipython",
    "version": 3
   },
   "file_extension": ".py",
   "mimetype": "text/x-python",
   "name": "python",
   "nbconvert_exporter": "python",
   "pygments_lexer": "ipython3",
   "version": "3.6.5"
  }
 },
 "nbformat": 4,
 "nbformat_minor": 2
}
