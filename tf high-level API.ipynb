{
 "cells": [
  {
   "cell_type": "code",
   "execution_count": 1,
   "metadata": {},
   "outputs": [
    {
     "name": "stderr",
     "output_type": "stream",
     "text": [
      "/Users/liuxinxin/anaconda3/lib/python3.6/site-packages/h5py/__init__.py:36: FutureWarning: Conversion of the second argument of issubdtype from `float` to `np.floating` is deprecated. In future, it will be treated as `np.float64 == np.dtype(float).type`.\n",
      "  from ._conv import register_converters as _register_converters\n"
     ]
    }
   ],
   "source": [
    "import os\n",
    "import gzip\n",
    "import shutil\n",
    "import tensorflow as tf\n",
    "import six.moves.urllib_request as urllib\n",
    "tf.enable_eager_execution()\n",
    "from sklearn.model_selection import train_test_split\n",
    "\n"
   ]
  },
  {
   "cell_type": "code",
   "execution_count": 2,
   "metadata": {},
   "outputs": [],
   "source": [
    "# data url\n",
    "url = \"https://archive.ics.uci.edu/ml/machine-learning-databases/covtype/covtype.data.gz\""
   ]
  },
  {
   "cell_type": "code",
   "execution_count": 3,
   "metadata": {},
   "outputs": [],
   "source": [
    "# google download code\n",
    "# if downloaded , done else download\n",
    "\n",
    "def download_report_hook(count, block_size, total_size):\n",
    "  \"\"\"Report hook for download progress.\n",
    "\n",
    "  Args:\n",
    "    count: current block number\n",
    "    block_size: block size\n",
    "    total_size: total size\n",
    "  \"\"\"\n",
    "  percent = int(count * block_size * 100 / total_size)\n",
    "  print(\"\\r%d%%\" % percent + \" completed\", end=\"\\r\")\n",
    "\n",
    "\n",
    "def maybe_download(directory, filename, uri):\n",
    "  \"\"\"Download filename from uri unless it's already in directory.\n",
    "\n",
    "  Copies a remote file to local if that local file does not already exist.  If\n",
    "  the local file pre-exists this function call, it does not check that the local\n",
    "  file is a copy of the remote.\n",
    "\n",
    "  Remote filenames can be filepaths, any URI readable by tensorflow.gfile, or a\n",
    "  URL.\n",
    "\n",
    "  Args:\n",
    "    directory: path to the directory that will be used.\n",
    "    filename: name of the file to download to (do nothing if it already exists).\n",
    "    uri: URI to copy (or download) from.\n",
    "\n",
    "  Returns:\n",
    "    The path to the downloaded file.\n",
    "  \"\"\"\n",
    "  tf.gfile.MakeDirs(directory)\n",
    "  filepath = os.path.join(directory, filename)\n",
    "  if tf.gfile.Exists(filepath):\n",
    "    tf.logging.info(\"Not downloading, file already found: %s\" % filepath)\n",
    "    return filepath\n",
    "\n",
    "  tf.logging.info(\"Downloading %s to %s\" % (uri, filepath))\n",
    "  try:\n",
    "    tf.gfile.Copy(uri, filepath)\n",
    "  except tf.errors.UnimplementedError:\n",
    "    if uri.startswith(\"http\"):\n",
    "      inprogress_filepath = filepath + \".incomplete\"\n",
    "      inprogress_filepath, _ = urllib.urlretrieve(\n",
    "          uri, inprogress_filepath, reporthook=download_report_hook)\n",
    "      # Print newline to clear the carriage return from the download progress\n",
    "      print()\n",
    "      tf.gfile.Rename(inprogress_filepath, filepath)\n",
    "    else:\n",
    "      raise ValueError(\"Unrecognized URI: \" + filepath)\n",
    "  statinfo = os.stat(filepath)\n",
    "  tf.logging.info(\"Successfully downloaded %s, %s bytes.\" %\n",
    "                  (filename, statinfo.st_size))\n",
    "  return filepath"
   ]
  },
  {
   "cell_type": "code",
   "execution_count": 4,
   "metadata": {},
   "outputs": [
    {
     "name": "stdout",
     "output_type": "stream",
     "text": [
      "INFO:tensorflow:Not downloading, file already found: covtype.data.gz\n"
     ]
    },
    {
     "data": {
      "text/plain": [
       "'covtype.data.gz'"
      ]
     },
     "execution_count": 4,
     "metadata": {},
     "output_type": "execute_result"
    }
   ],
   "source": [
    "# download the file to the data documents\n",
    "# now you can get the covtype.data.gz file in your document\n",
    "file_name = url.split('/')[-1]\n",
    "maybe_download(\"\",file_name, url)"
   ]
  },
  {
   "cell_type": "code",
   "execution_count": 5,
   "metadata": {},
   "outputs": [],
   "source": [
    "# extract the data\n",
    "# now you get covtype.data file\n",
    "new_file_name = file_name.replace(\".gz\", \"\")\n",
    "with gzip.open(file_name, 'rb') as f_in:\n",
    "    with open(new_file_name, 'wb') as f_out:\n",
    "        shutil.copyfileobj(f_in, f_out)"
   ]
  },
  {
   "cell_type": "code",
   "execution_count": 6,
   "metadata": {},
   "outputs": [],
   "source": [
    "# devide train/test\n",
    "# you get covtype.csv.train and covtype.csv.test file\n",
    "data = []\n",
    "with open(new_file_name,'r') as f:\n",
    "    data = f.readlines()\n",
    "train,test= train_test_split(data,test_size=0.1)\n",
    "\n",
    "def save_file(name,dataset):\n",
    "    with open(name,'w') as f:\n",
    "        for data in dataset:\n",
    "            f.write(data)\n",
    "\n",
    "save_file('covtype.csv.train',train)\n",
    "save_file('covtype.csv.test',test)"
   ]
  },
  {
   "cell_type": "code",
   "execution_count": 7,
   "metadata": {},
   "outputs": [
    {
     "name": "stdout",
     "output_type": "stream",
     "text": [
      "WARNING:tensorflow:From <ipython-input-7-87fc79224a0c>:4: CsvDataset.__init__ (from tensorflow.contrib.data.python.ops.readers) is deprecated and will be removed in a future version.\n",
      "Instructions for updating:\n",
      "Use `tf.data.experimental.CsvDataset(...)`.\n",
      "[(<tf.Tensor: id=68, shape=(), dtype=int32, numpy=2679>, <tf.Tensor: id=69, shape=(), dtype=int32, numpy=32>, <tf.Tensor: id=70, shape=(), dtype=int32, numpy=9>, <tf.Tensor: id=71, shape=(), dtype=int32, numpy=175>, <tf.Tensor: id=72, shape=(), dtype=int32, numpy=8>, <tf.Tensor: id=73, shape=(), dtype=int32, numpy=1347>, <tf.Tensor: id=74, shape=(), dtype=int32, numpy=218>, <tf.Tensor: id=75, shape=(), dtype=int32, numpy=221>, <tf.Tensor: id=76, shape=(), dtype=int32, numpy=139>, <tf.Tensor: id=77, shape=(), dtype=int32, numpy=1403>, <tf.Tensor: id=78, shape=(), dtype=int32, numpy=1>, <tf.Tensor: id=79, shape=(), dtype=int32, numpy=0>, <tf.Tensor: id=80, shape=(), dtype=int32, numpy=0>, <tf.Tensor: id=81, shape=(), dtype=int32, numpy=0>, <tf.Tensor: id=82, shape=(), dtype=int32, numpy=0>, <tf.Tensor: id=83, shape=(), dtype=int32, numpy=0>, <tf.Tensor: id=84, shape=(), dtype=int32, numpy=0>, <tf.Tensor: id=85, shape=(), dtype=int32, numpy=0>, <tf.Tensor: id=86, shape=(), dtype=int32, numpy=0>, <tf.Tensor: id=87, shape=(), dtype=int32, numpy=0>, <tf.Tensor: id=88, shape=(), dtype=int32, numpy=0>, <tf.Tensor: id=89, shape=(), dtype=int32, numpy=0>, <tf.Tensor: id=90, shape=(), dtype=int32, numpy=0>, <tf.Tensor: id=91, shape=(), dtype=int32, numpy=0>, <tf.Tensor: id=92, shape=(), dtype=int32, numpy=0>, <tf.Tensor: id=93, shape=(), dtype=int32, numpy=1>, <tf.Tensor: id=94, shape=(), dtype=int32, numpy=0>, <tf.Tensor: id=95, shape=(), dtype=int32, numpy=0>, <tf.Tensor: id=96, shape=(), dtype=int32, numpy=0>, <tf.Tensor: id=97, shape=(), dtype=int32, numpy=0>, <tf.Tensor: id=98, shape=(), dtype=int32, numpy=0>, <tf.Tensor: id=99, shape=(), dtype=int32, numpy=0>, <tf.Tensor: id=100, shape=(), dtype=int32, numpy=0>, <tf.Tensor: id=101, shape=(), dtype=int32, numpy=0>, <tf.Tensor: id=102, shape=(), dtype=int32, numpy=0>, <tf.Tensor: id=103, shape=(), dtype=int32, numpy=0>, <tf.Tensor: id=104, shape=(), dtype=int32, numpy=0>, <tf.Tensor: id=105, shape=(), dtype=int32, numpy=0>, <tf.Tensor: id=106, shape=(), dtype=int32, numpy=0>, <tf.Tensor: id=107, shape=(), dtype=int32, numpy=0>, <tf.Tensor: id=108, shape=(), dtype=int32, numpy=0>, <tf.Tensor: id=109, shape=(), dtype=int32, numpy=0>, <tf.Tensor: id=110, shape=(), dtype=int32, numpy=0>, <tf.Tensor: id=111, shape=(), dtype=int32, numpy=0>, <tf.Tensor: id=112, shape=(), dtype=int32, numpy=0>, <tf.Tensor: id=113, shape=(), dtype=int32, numpy=0>, <tf.Tensor: id=114, shape=(), dtype=int32, numpy=0>, <tf.Tensor: id=115, shape=(), dtype=int32, numpy=0>, <tf.Tensor: id=116, shape=(), dtype=int32, numpy=0>, <tf.Tensor: id=117, shape=(), dtype=int32, numpy=0>, <tf.Tensor: id=118, shape=(), dtype=int32, numpy=0>, <tf.Tensor: id=119, shape=(), dtype=int32, numpy=0>, <tf.Tensor: id=120, shape=(), dtype=int32, numpy=0>, <tf.Tensor: id=121, shape=(), dtype=int32, numpy=0>, <tf.Tensor: id=122, shape=(), dtype=int32, numpy=2>)]\n"
     ]
    }
   ],
   "source": [
    "# we can forward to the tutorail\n",
    "# maybe google can print more beatiful\n",
    "defaults = [tf.int32] * 55\n",
    "dataset = tf.contrib.data.CsvDataset(['covtype.csv.train'],defaults)\n",
    "print(list(dataset.take(1)))"
   ]
  },
  {
   "cell_type": "code",
   "execution_count": 8,
   "metadata": {},
   "outputs": [],
   "source": [
    "# col names \n",
    "# come from https://archive.ics.uci.edu/ml/machine-learning-databases/covtype/covtype.info spend most of my time :/\n",
    "col_names = [\n",
    "    'Elevation',\n",
    "    'Aspect',\n",
    "    'Slope',\n",
    "    'Horizontal_Distance_To_Hydrology',\n",
    "    'Vertical_Distance_To_Hydrology',\n",
    "    'Horizontal_Distance_To_Roadways',\n",
    "    'Hillshade_9am',\n",
    "    'Hillshade_Noon',\n",
    "    'Hillshade_3pm',\n",
    "    'Horizontal_Distance_To_Fire_Points',\n",
    "    'Wilderness_Area',\n",
    "    'Soil_Type',\n",
    "    'Cover_Type'\n",
    "]"
   ]
  },
  {
   "cell_type": "code",
   "execution_count": 9,
   "metadata": {},
   "outputs": [],
   "source": [
    "# parsing every line\n",
    "def _parse_csv_row(*vals):\n",
    "    soil_type_t = tf.convert_to_tensor(vals[14:54])\n",
    "    feat_vals = vals[:10] + (soil_type_t,vals[54])\n",
    "    features = dict(zip(col_names,feat_vals))\n",
    "    \n",
    "    class_label = tf.argmax(vals[10:14],axis=0)\n",
    "    return features,class_label"
   ]
  },
  {
   "cell_type": "code",
   "execution_count": 10,
   "metadata": {},
   "outputs": [
    {
     "name": "stdout",
     "output_type": "stream",
     "text": [
      "[({'Elevation': <tf.Tensor: id=313, shape=(64,), dtype=int32, numpy=\n",
      "array([2679, 3048, 2846, 3156, 3299, 3261, 3179, 3036, 2725, 3210, 3144,\n",
      "       3205, 2351, 2180, 3233, 2492, 2818, 2748, 3273, 2922, 2870, 3061,\n",
      "       2838, 3211, 3034, 3275, 3018, 3252, 3065, 3164, 3021, 2965, 2720,\n",
      "       2848, 2499, 2940, 2934, 3085, 1962, 2962, 2851, 3032, 3146, 2549,\n",
      "       2894, 2360, 3108, 3214, 3130, 2923, 3005, 3065, 2626, 3049, 3109,\n",
      "       3014, 2852, 2808, 3160, 2824, 3167, 2600, 3237, 3364], dtype=int32)>, 'Aspect': <tf.Tensor: id=312, shape=(64,), dtype=int32, numpy=\n",
      "array([ 32, 122,  28,  96, 339, 291,  84, 219,  67, 293, 142,  85,  39,\n",
      "        84,  94, 231, 139,  50, 272, 265, 144, 310,   3, 117, 198, 123,\n",
      "        20, 228, 234,  88,  96,  86, 101, 307,  43, 352, 196,  48, 121,\n",
      "       359, 124,  25,  82,  19,  16,  34, 333, 321, 163,  69, 110, 208,\n",
      "        13, 344, 285, 345,  59,  86, 253, 131, 302,  17,  58,  84],\n",
      "      dtype=int32)>, 'Slope': <tf.Tensor: id=320, shape=(64,), dtype=int32, numpy=\n",
      "array([ 9, 14,  8,  5, 20,  8, 10, 12, 26,  2, 21, 27, 20, 29, 19, 30, 22,\n",
      "       11, 21,  9, 16,  4,  9,  2, 19, 13, 14, 13,  8, 19, 16, 18, 10,  9,\n",
      "        8,  2, 16,  6, 15, 18, 28, 21, 16,  9,  4, 26, 11, 10,  8,  4, 13,\n",
      "       23,  5, 24, 11, 13, 21, 16, 29, 13, 32, 23,  4,  6], dtype=int32)>, 'Horizontal_Distance_To_Hydrology': <tf.Tensor: id=318, shape=(64,), dtype=int32, numpy=\n",
      "array([ 175,  404,  150,  324,  638,  769,  780,  488,   85,   60,  277,\n",
      "        295,  216,   42,  598,   30,   42,  190,  297,  170,  150,  492,\n",
      "        524,  859, 1114,  216,  153,  295,  339,  361,  120,    0,  256,\n",
      "         67,    0,    0,  722,   42,   42,  150,  124,  722,  757,   67,\n",
      "        424,   85,  120,  170,  212,   90,   30,  860,   60,  175,  433,\n",
      "        108,  134,  175,  300,  300,  270,  120,  120,  510], dtype=int32)>, 'Vertical_Distance_To_Hydrology': <tf.Tensor: id=322, shape=(64,), dtype=int32, numpy=\n",
      "array([  8, -50,  10,  12, 139, 160, 167,   1,  24,  -3,  82,  92,  88,\n",
      "        26,  79,  11,  11,  25,  77,  36,  32, 107,  60,  95, 161, -13,\n",
      "        23, -22,  63, 102,  13,   0,  27,   5,   0,   0, 300,   0,   9,\n",
      "        32,  52, 263, 145,  -1,  17,  40,  23,  32,  15,   1,   3, 237,\n",
      "         6,  47,  77,  16,  47,  37,  78,  40, 171,  52,  -4,  42],\n",
      "      dtype=int32)>, 'Horizontal_Distance_To_Roadways': <tf.Tensor: id=319, shape=(64,), dtype=int32, numpy=\n",
      "array([1347,  569, 2731, 5900, 4202, 6164, 2431, 2934, 2232,  888, 2297,\n",
      "       1052, 1200,  810, 1224, 1566,  779, 2663,  437, 6279,  997,  752,\n",
      "       1981, 3116, 3137, 3072, 1132, 2802, 3031, 3878, 3224, 4650, 1398,\n",
      "       1357, 1714, 1260, 1033, 3855,   85,  579, 4748, 1827, 2219, 1167,\n",
      "       3734,  182, 1966,  937, 1230, 1749,  960, 4456, 1295, 3543, 3037,\n",
      "       6111, 3481, 1613, 2418, 2924,  641, 1024, 6089, 1022], dtype=int32)>, 'Hillshade_9am': <tf.Tensor: id=315, shape=(64,), dtype=int32, numpy=\n",
      "array([218, 242, 217, 228, 174, 197, 234, 206, 235, 214, 245, 246, 217,\n",
      "       246, 246, 160, 247, 225, 159, 198, 241, 209, 207, 223, 211, 241,\n",
      "       209, 201, 206, 245, 244, 243, 236, 195, 222, 216, 215, 223, 244,\n",
      "       189, 253, 204, 241, 214, 216, 206, 195, 195, 228, 224, 242, 198,\n",
      "       215, 166, 189, 195, 231, 241, 142, 241, 115, 194, 223, 229],\n",
      "      dtype=int32)>, 'Hillshade_Noon': <tf.Tensor: id=316, shape=(64,), dtype=int32, numpy=\n",
      "array([221, 229, 223, 233, 207, 239, 224, 252, 178, 238, 230, 183, 192,\n",
      "       177, 208, 250, 227, 215, 241, 244, 235, 237, 222, 237, 252, 230,\n",
      "       209, 252, 248, 205, 216, 206, 227, 235, 222, 236, 252, 226, 227,\n",
      "       203, 207, 189, 209, 220, 231, 173, 226, 231, 242, 231, 225, 254,\n",
      "       229, 196, 240, 220, 190, 212, 244, 232, 206, 186, 230, 229],\n",
      "      dtype=int32)>, 'Hillshade_3pm': <tf.Tensor: id=314, shape=(64,), dtype=int32, numpy=\n",
      "array([139, 113, 141, 139, 170, 181, 121, 180,  59, 162, 103,  47, 103,\n",
      "        39,  84, 214,  97, 123, 218, 185, 119, 166, 152, 150, 169, 115,\n",
      "       134, 186, 179,  82,  97,  85, 121, 180, 135, 157, 166, 139, 108,\n",
      "       149,  62, 114,  94, 143, 152,  89, 170, 175, 147, 143, 109, 182,\n",
      "       151, 164, 191, 163,  83,  97, 231, 118, 222, 120, 143, 133],\n",
      "      dtype=int32)>, 'Horizontal_Distance_To_Fire_Points': <tf.Tensor: id=317, shape=(64,), dtype=int32, numpy=\n",
      "array([1403, 1410, 2618,  962, 2420, 2460, 3017, 1749,  592, 1110, 1621,\n",
      "       1945,  725,  853, 2324, 1132, 1090, 2182,  579, 4590, 2233,  849,\n",
      "       2916, 2635, 1364,  725,  400,  454, 1008,  849, 6095, 2495, 1801,\n",
      "       1326,  902,  503, 1684, 1053,  376, 1290, 4731, 2197, 2793, 2329,\n",
      "       3363,  218, 1822,  713, 1972, 2458, 2638, 1436,  210, 2052,  560,\n",
      "       3392, 2613, 2096, 1583, 2559, 2188, 6427,  458, 2437], dtype=int32)>, 'Wilderness_Area': <tf.Tensor: id=323, shape=(64, 40), dtype=int32, numpy=\n",
      "array([[0, 0, 0, ..., 0, 0, 0],\n",
      "       [0, 0, 0, ..., 0, 0, 0],\n",
      "       [0, 0, 0, ..., 0, 0, 0],\n",
      "       ...,\n",
      "       [0, 0, 0, ..., 0, 0, 0],\n",
      "       [0, 0, 0, ..., 0, 0, 0],\n",
      "       [0, 0, 0, ..., 0, 0, 0]], dtype=int32)>, 'Soil_Type': <tf.Tensor: id=321, shape=(64,), dtype=int32, numpy=\n",
      "array([2, 1, 2, 1, 1, 2, 1, 1, 2, 1, 1, 2, 6, 3, 1, 3, 2, 2, 1, 2, 2, 2,\n",
      "       2, 2, 2, 1, 1, 1, 1, 2, 2, 1, 2, 1, 6, 2, 2, 1, 3, 2, 2, 1, 1, 2,\n",
      "       2, 6, 1, 1, 1, 2, 2, 2, 2, 1, 1, 2, 1, 2, 1, 2, 2, 1, 1, 7],\n",
      "      dtype=int32)>}, <tf.Tensor: id=324, shape=(64,), dtype=int64, numpy=\n",
      "array([0, 0, 0, 0, 2, 0, 2, 2, 2, 1, 2, 0, 3, 3, 0, 2, 2, 0, 1, 0, 2, 1,\n",
      "       0, 2, 2, 0, 2, 2, 2, 0, 0, 0, 0, 2, 2, 2, 2, 0, 3, 2, 0, 2, 2, 2,\n",
      "       0, 2, 0, 1, 0, 2, 0, 2, 0, 2, 2, 0, 0, 0, 2, 0, 0, 0, 0, 2])>)]\n"
     ]
    }
   ],
   "source": [
    "# apply the parse to the dataset\n",
    "# Until here is part 1\n",
    "dataset = dataset.map(_parse_csv_row).batch(64)\n",
    "print(list(dataset.take(1)))"
   ]
  },
  {
   "cell_type": "code",
   "execution_count": null,
   "metadata": {},
   "outputs": [],
   "source": []
  }
 ],
 "metadata": {
  "kernelspec": {
   "display_name": "Python 3",
   "language": "python",
   "name": "python3"
  },
  "language_info": {
   "codemirror_mode": {
    "name": "ipython",
    "version": 3
   },
   "file_extension": ".py",
   "mimetype": "text/x-python",
   "name": "python",
   "nbconvert_exporter": "python",
   "pygments_lexer": "ipython3",
   "version": "3.6.5"
  }
 },
 "nbformat": 4,
 "nbformat_minor": 2
}
